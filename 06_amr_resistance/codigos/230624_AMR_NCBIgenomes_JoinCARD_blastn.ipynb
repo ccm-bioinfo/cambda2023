{
  "nbformat": 4,
  "nbformat_minor": 0,
  "metadata": {
    "colab": {
      "provenance": []
    },
    "kernelspec": {
      "name": "python3",
      "display_name": "Python 3"
    },
    "language_info": {
      "name": "python"
    }
  },
  "cells": [
    {
      "cell_type": "markdown",
      "source": [
        "## AMR in genomes from NCBI and from mysterious city\n",
        "First lets upload the mysterious city AMR presence-absence table\n",
        "We have 143 genomes (rows) with 505 AMR markers detected"
      ],
      "metadata": {
        "id": "Ha12BOWogfew"
      }
    },
    {
      "cell_type": "code",
      "source": [
        "import pandas as pd\n",
        "## 505 combined CARD-manual Ids from mysterious samples\n",
        "url = 'https://raw.githubusercontent.com/ccm-bioinfo/cambda2023/main/06_amr_resistance/data/amr_mistery_table20230622_aroIds.tsv'  # Replace with the actual GitHub URL of the CSV file\n",
        "\n",
        "# Read the TSV file into a DataFrame\n",
        "df_CM_mysterious = pd.read_csv(url, delimiter='\\t')\n",
        "# Rename the first column\n",
        "df_CM_mysterious.columns.values[0] = 'ID'\n",
        "\n",
        "# Print the DataFrame\n",
        "print(df_CM_mysterious.head())\n",
        "\n",
        "# Get the dimensions of the DataFrame\n",
        "rows_df_CM_mysterious, columns_df_CM_mysterious = df_CM_mysterious.shape\n",
        "\n",
        "# Print the dimensions\n",
        "print(\"Number of rows:\", rows_df_CM_mysterious)\n",
        "print(\"Number of columns:\", columns_df_CM_mysterious)\n",
        "# Count non-zero values by row\n",
        "non_zero_counts = (df_CM_mysterious != 0).sum(axis=1)\n",
        "\n",
        "# Print the result\n",
        "print(non_zero_counts)\n",
        "#print (df)\n"
      ],
      "metadata": {
        "id": "9aMp6MpXddIS",
        "colab": {
          "base_uri": "https://localhost:8080/"
        },
        "outputId": "e6a7a6a2-00bd-4d19-ec97-d63820a7fe7c"
      },
      "execution_count": 2,
      "outputs": [
        {
          "output_type": "stream",
          "name": "stdout",
          "text": [
            "   ID  ARO:3000167  ARO:3002847  mrkb  enta  fepa  ARO:3004122  cyca  csge  \\\n",
            "0  S1            0            0     0     0     0            0     1     0   \n",
            "1  S2            0            0     0     0     0            0     1     0   \n",
            "2  S3            0            0     0     0     0            0     1     0   \n",
            "3  S4            0            0     0     1     0            0     1     0   \n",
            "4  S5            0            0     0     0     0            0     1     0   \n",
            "\n",
            "   iucc  ...  teml100  scintssj  wcst  sfax  kpsd  mdlb  ARO:3001084  tssj  \\\n",
            "0     0  ...        0         0     0     0     0     0            0     0   \n",
            "1     0  ...        0         0     0     0     0     0            0     0   \n",
            "2     0  ...        0         0     0     0     0     0            0     0   \n",
            "3     0  ...        0         0     0     0     0     0            0     0   \n",
            "4     0  ...        0         0     0     0     0     0            0     0   \n",
            "\n",
            "   icmftssm  acrr  \n",
            "0         0     0  \n",
            "1         0     0  \n",
            "2         0     0  \n",
            "3         0     0  \n",
            "4         0     0  \n",
            "\n",
            "[5 rows x 506 columns]\n",
            "Number of rows: 146\n",
            "Number of columns: 506\n",
            "0       74\n",
            "1       79\n",
            "2       85\n",
            "3       85\n",
            "4       76\n",
            "      ... \n",
            "141    125\n",
            "142    126\n",
            "143    126\n",
            "144    118\n",
            "145    115\n",
            "Length: 146, dtype: int64\n"
          ]
        }
      ]
    },
    {
      "cell_type": "code",
      "source": [
        "## Adding metadata from such as species to mysterious samples\n",
        "url = 'https://raw.githubusercontent.com/ccm-bioinfo/cambda2023/main/01_preprocessing/amr_patterns.tsv'  # Replace with the actual GitHub URL of the CSV file\n",
        "\n",
        "# Read the TSV file into a DataFrame\n",
        "df_metadata_mysterious = pd.read_csv(url, delimiter='\\t')\n",
        "new_column = df_metadata_mysterious['ID']\n",
        "df_metadata_mysterious.insert(2, 'City', new_column)\n",
        "df_metadata_mysterious['City'] = 'mysterious'\n",
        "df_metadata_mysterious=df_metadata_mysterious.iloc[:, :4]\n",
        "\n",
        "# Print the DataFrame\n",
        "#print(df_metadata_mysterious.head())\n",
        "# Perform the join based on the 'Id' column\n",
        "mysterious_df = pd.merge( df_metadata_mysterious,df_CM_mysterious, on='ID')\n",
        "\n",
        "# Print the merged DataFrame\n",
        "print(mysterious_df.head())\n",
        "\n"
      ],
      "metadata": {
        "colab": {
          "base_uri": "https://localhost:8080/"
        },
        "id": "Q42vcqNBfO-F",
        "outputId": "4f3fa30b-4b8c-4245-8292-d769f7bf47fc"
      },
      "execution_count": 3,
      "outputs": [
        {
          "output_type": "stream",
          "name": "stdout",
          "text": [
            "   ID                  Species        City AST-based group  ARO:3000167  \\\n",
            "0  S1  Enterobacter hormaechei  mysterious   3GC-resistant            0   \n",
            "1  S2  Enterobacter hormaechei  mysterious          CP CRE            0   \n",
            "2  S3  Enterobacter hormaechei  mysterious          CP CRE            0   \n",
            "3  S4  Enterobacter hormaechei  mysterious          CP CRE            0   \n",
            "4  S5  Enterobacter hormaechei  mysterious          CP CRE            0   \n",
            "\n",
            "   ARO:3002847  mrkb  enta  fepa  ARO:3004122  ...  teml100  scintssj  wcst  \\\n",
            "0            0     0     0     0            0  ...        0         0     0   \n",
            "1            0     0     0     0            0  ...        0         0     0   \n",
            "2            0     0     0     0            0  ...        0         0     0   \n",
            "3            0     0     1     0            0  ...        0         0     0   \n",
            "4            0     0     0     0            0  ...        0         0     0   \n",
            "\n",
            "   sfax  kpsd  mdlb  ARO:3001084  tssj  icmftssm  acrr  \n",
            "0     0     0     0            0     0         0     0  \n",
            "1     0     0     0            0     0         0     0  \n",
            "2     0     0     0            0     0         0     0  \n",
            "3     0     0     0            0     0         0     0  \n",
            "4     0     0     0            0     0         0     0  \n",
            "\n",
            "[5 rows x 509 columns]\n"
          ]
        }
      ]
    },
    {
      "cell_type": "code",
      "source": [
        "# Getting consensus by city\n",
        "## Pending\n",
        "\n",
        "# Extract column 3\n",
        "\n",
        "#df=mysterious_df\n",
        "#df = df.drop(columns=[df.columns[0], df.columns[2], df.columns[3]])\n",
        "\n",
        "#grouped = df.groupby('Species').agg(lambda x: x.mode().iloc[0])\n",
        "\n",
        "# Print the result\n",
        "#print(grouped)\n",
        "# Count non-zero values by row\n",
        "#non_zero_counts = (df != 0).sum(axis=1)\n",
        "\n",
        "# Print the result\n",
        "#print(non_zero_counts)\n",
        "#print (df)"
      ],
      "metadata": {
        "id": "OFVc0YBklCSr"
      },
      "execution_count": 5,
      "outputs": []
    },
    {
      "cell_type": "code",
      "source": [],
      "metadata": {
        "id": "POHGLOxQg-Ro"
      },
      "execution_count": null,
      "outputs": []
    },
    {
      "cell_type": "markdown",
      "source": [
        "## AMR in Genomes  \n",
        "### Selected from NCBI  \n",
        "We found 3566 CARD Ids ( columns) not all of them are in the mysterious city samples.  \n",
        "The 106 rows are the genus _Escherichia_, _Enterobacter_ and _Klebsiella_ in the 6 US cities were AMR CARD models were found.\n"
      ],
      "metadata": {
        "id": "USj4OYdWhAdJ"
      }
    },
    {
      "cell_type": "code",
      "source": [
        "\n",
        "## CARD table for Extracted by Taxonomy , binned by city\n",
        "url = 'https://raw.githubusercontent.com/ccm-bioinfo/cambda2023/main/06_amr_resistance/data/230623_genomes_card_presence.tsv'  # Replace with the actual GitHub URL of the CSV file\n",
        "\n",
        "# Read the TSV file into a DataFrame\n",
        "df_NCBI_genomes_AMR_CARD = pd.read_csv(url, delimiter='\\t').transpose()\n",
        "\n",
        "# Get the values from the third row\n",
        "third_row = df_NCBI_genomes_AMR_CARD.iloc[1]\n",
        "df_NCBI_genomes_AMR_CARD.columns=third_row\n",
        "\n",
        "# Add a prefix to column names\n",
        "prefix = 'ARO:'  # Replace with the desired prefix\n",
        "df_NCBI_genomes_AMR_CARD = df_NCBI_genomes_AMR_CARD.add_prefix(prefix)\n",
        "\n",
        "# Remove a specific row by index\n",
        "index_to_remove = 'aro'  # Replace with the index of the row you want to remove\n",
        "df_NCBI_genomes_AMR_CARD = df_NCBI_genomes_AMR_CARD.drop(index_to_remove)\n",
        "\n",
        "\n",
        "print(df_NCBI_genomes_AMR_CARD)\n"
      ],
      "metadata": {
        "colab": {
          "base_uri": "https://localhost:8080/"
        },
        "outputId": "54dd5bdf-a8fc-4f73-f505-5499288682cb",
        "id": "L7GauCTui59F"
      },
      "execution_count": 4,
      "outputs": [
        {
          "output_type": "stream",
          "name": "stdout",
          "text": [
            "aro             ARO:3000535 ARO:3003665 ARO:3000620 ARO:3005091 ARO:3007433  \\\n",
            "Unnamed: 0             macB        NmcR        adeL        RanA        almE   \n",
            "GCF_002214205.1           1           1           1           1           1   \n",
            "GCF_002833425.1           1           1           1           1           1   \n",
            "GCF_002833445.1           1           1           1           1           1   \n",
            "GCF_002833465.1           1           1           1           1           1   \n",
            "...                     ...         ...         ...         ...         ...   \n",
            "GCF_029069675.1           1           1           1           1           1   \n",
            "GCF_029069745.1           1           1           1           1           1   \n",
            "GCF_029069825.1           1           1           1           1           1   \n",
            "GCF_029070195.1           1           1           1           1           1   \n",
            "GCF_029075245.1           1           1           1           1           1   \n",
            "\n",
            "aro             ARO:3000833 ARO:3005008 ARO:3000813 ARO:3004047 ARO:3002985  \\\n",
            "Unnamed: 0             evgS         TxR        MexS        kdpD        arnA   \n",
            "GCF_002214205.1           1           1           1           1           1   \n",
            "GCF_002833425.1           1           1           1           1           1   \n",
            "GCF_002833445.1           1           1           1           1           1   \n",
            "GCF_002833465.1           1           1           1           1           1   \n",
            "...                     ...         ...         ...         ...         ...   \n",
            "GCF_029069675.1           1           1           1           1           1   \n",
            "GCF_029069745.1           1           1           1           1           1   \n",
            "GCF_029069825.1           1           1           1           1           1   \n",
            "GCF_029070195.1           1           1           1           1           1   \n",
            "GCF_029075245.1           1           1           1           1           1   \n",
            "\n",
            "aro              ... ARO:3006843 ARO:3001659 ARO:3000950 ARO:3003622  \\\n",
            "Unnamed: 0       ...      PDC-58     OXA-175      TEM-83     OXA-466   \n",
            "GCF_002214205.1  ...           0           0           0           0   \n",
            "GCF_002833425.1  ...           0           0           0           0   \n",
            "GCF_002833445.1  ...           0           0           0           0   \n",
            "GCF_002833465.1  ...           0           0           0           0   \n",
            "...              ...         ...         ...         ...         ...   \n",
            "GCF_029069675.1  ...           0           0           0           0   \n",
            "GCF_029069745.1  ...           0           0           0           0   \n",
            "GCF_029069825.1  ...           0           0           0           0   \n",
            "GCF_029070195.1  ...           0           0           0           0   \n",
            "GCF_029075245.1  ...           1           1           1           1   \n",
            "\n",
            "aro             ARO:3005371 ARO:3006685 ARO:3001838 ARO:3007239 ARO:3006522  \\\n",
            "Unnamed: 0           KPC-39     PDC-315      ACT-17    MCR-1.22     PDC-145   \n",
            "GCF_002214205.1           0           0           0           0           0   \n",
            "GCF_002833425.1           0           0           0           0           0   \n",
            "GCF_002833445.1           0           0           0           0           0   \n",
            "GCF_002833465.1           0           0           0           0           0   \n",
            "...                     ...         ...         ...         ...         ...   \n",
            "GCF_029069675.1           0           0           0           0           0   \n",
            "GCF_029069745.1           0           0           0           0           0   \n",
            "GCF_029069825.1           0           0           0           0           0   \n",
            "GCF_029070195.1           0           0           0           0           0   \n",
            "GCF_029075245.1           1           1           1           1           1   \n",
            "\n",
            "aro             ARO:3006415  \n",
            "Unnamed: 0          ADC-245  \n",
            "GCF_002214205.1           0  \n",
            "GCF_002833425.1           0  \n",
            "GCF_002833445.1           0  \n",
            "GCF_002833465.1           0  \n",
            "...                     ...  \n",
            "GCF_029069675.1           0  \n",
            "GCF_029069745.1           0  \n",
            "GCF_029069825.1           0  \n",
            "GCF_029070195.1           0  \n",
            "GCF_029075245.1           1  \n",
            "\n",
            "[107 rows x 3566 columns]\n"
          ]
        }
      ]
    },
    {
      "cell_type": "markdown",
      "source": [
        "Now we will get the CARD Ids intersection with IDs in mysterious city samples, only 157 were found.  "
      ],
      "metadata": {
        "id": "4HL0uqI3IbyS"
      }
    },
    {
      "cell_type": "code",
      "source": [
        "\n",
        "\n",
        "# Create an empty column with the desired name\n",
        "new_column = df_NCBI_genomes_AMR_CARD.index\n",
        "\n",
        "# Get the intersection of column names\n",
        "common_columns = list(set(df_CM_mysterious.columns).intersection(df_NCBI_genomes_AMR_CARD.columns))\n",
        "\n",
        "# Keep only the common columns in both DataFrames\n",
        "#df1 = df_CM_mysterious[common_columns]\n",
        "df_NCBI_genomes_AMR_CARD = df_NCBI_genomes_AMR_CARD[common_columns]\n",
        "\n",
        "# Print the updated DataFrames with only the common columns\n",
        "# Assign the empty column as the first column in the DataFrame\n",
        "df_NCBI_genomes_AMR_CARD.insert(0, 'db', new_column)\n",
        "df_NCBI_genomes_AMR_CARD=df_NCBI_genomes_AMR_CARD.reset_index(drop=True)\n",
        "\n",
        "print(df_NCBI_genomes_AMR_CARD)\n",
        "\n",
        "\n",
        "# Print the DataFrame\n",
        "#print(df_ET_BC_AMR_CARD)\n",
        "\n"
      ],
      "metadata": {
        "colab": {
          "base_uri": "https://localhost:8080/"
        },
        "id": "Ai4MmBeOHtME",
        "outputId": "b168eaff-a504-4463-ef76-533b810e9014"
      },
      "execution_count": 5,
      "outputs": [
        {
          "output_type": "stream",
          "name": "stdout",
          "text": [
            "aro               db ARO:3000216 ARO:3000676 ARO:3000873 ARO:3001338  \\\n",
            "0         Unnamed: 0        acrB        H-NS       TEM-1     SHV-100   \n",
            "1    GCF_002214205.1           1           1           1           0   \n",
            "2    GCF_002833425.1           1           1           1           0   \n",
            "3    GCF_002833445.1           1           1           1           0   \n",
            "4    GCF_002833465.1           1           1           1           0   \n",
            "..               ...         ...         ...         ...         ...   \n",
            "102  GCF_029069675.1           1           1           1           0   \n",
            "103  GCF_029069745.1           1           1           1           0   \n",
            "104  GCF_029069825.1           1           1           1           0   \n",
            "105  GCF_029070195.1           1           1           1           0   \n",
            "106  GCF_029075245.1           1           1           1           0   \n",
            "\n",
            "aro ARO:3002826 ARO:3001216 ARO:3001070 ARO:3003952 ARO:3003059  ...  \\\n",
            "0         EreA2        mdtH      SHV-11        YojI        tmrB  ...   \n",
            "1             1           1           0           1           1  ...   \n",
            "2             1           1           0           1           1  ...   \n",
            "3             1           1           0           1           1  ...   \n",
            "4             1           1           0           1           1  ...   \n",
            "..          ...         ...         ...         ...         ...  ...   \n",
            "102           1           1           0           1           1  ...   \n",
            "103           1           1           0           1           1  ...   \n",
            "104           1           1           0           1           1  ...   \n",
            "105           1           1           0           1           1  ...   \n",
            "106           1           1           0           1           1  ...   \n",
            "\n",
            "aro ARO:3002683 ARO:3005053 ARO:3000499 ARO:3000254 ARO:3000502 ARO:3002705  \\\n",
            "0          catI        ArnT        AcrE        emrY        AcrF        floR   \n",
            "1             1           1           1           1           1           1   \n",
            "2             1           1           1           1           1           1   \n",
            "3             1           1           1           1           1           1   \n",
            "4             1           1           1           1           1           1   \n",
            "..          ...         ...         ...         ...         ...         ...   \n",
            "102           1           1           1           1           1           1   \n",
            "103           1           1           1           1           1           0   \n",
            "104           1           1           1           1           1           1   \n",
            "105           1           1           1           1           1           1   \n",
            "106           1           1           1           1           1           1   \n",
            "\n",
            "aro ARO:3002831 ARO:3002137 ARO:3000833 ARO:3002357  \n",
            "0          vgaC       DHA-4        evgS       NDM-7  \n",
            "1             1           0           1           0  \n",
            "2             1           0           1           0  \n",
            "3             1           0           1           0  \n",
            "4             1           0           1           0  \n",
            "..          ...         ...         ...         ...  \n",
            "102           1           0           1           0  \n",
            "103           1           0           1           0  \n",
            "104           1           0           1           0  \n",
            "105           1           0           1           0  \n",
            "106           1           0           1           0  \n",
            "\n",
            "[107 rows x 157 columns]\n"
          ]
        }
      ]
    },
    {
      "cell_type": "markdown",
      "source": [
        "Lets find all hits of the manually curated database 325 Ids were blastn against metagenomic samples"
      ],
      "metadata": {
        "id": "GHKODGp6J__h"
      }
    },
    {
      "cell_type": "code",
      "source": [
        "url2='https://raw.githubusercontent.com/ccm-bioinfo/cambda2023/main/06_amr_resistance/data/230624_genomes_blast_counts.tsv'\n",
        "\n",
        "# Read the TSV file into a DataFrame\n",
        "df_NCBI_genomes_AMR_BLASTn = pd.read_csv(url2, delimiter='\\t', dtype={'002214205': str})\n",
        "df_NCBI_genomes_AMR_BLASTn['db'] = \"GCF_\" + df_NCBI_genomes_AMR_BLASTn['002214205'].astype(str) + \".1\"\n",
        "\n",
        "# Create an empty column with the desired name\n",
        "new_column = df_NCBI_genomes_AMR_BLASTn['db']\n",
        "\n",
        "# Get the intersection of column names\n",
        "common_columns = list(set(df_CM_mysterious.columns).intersection(df_NCBI_genomes_AMR_BLASTn))\n",
        "\n",
        "# Keep only the common columns in both DataFrames\n",
        "df1 = df_CM_mysterious[common_columns]\n",
        "df_NCBI_genomes_AMR_BLASTn= df_NCBI_genomes_AMR_BLASTn[common_columns]\n",
        "# Transform DataFrame to boolean\n",
        "df_boolean = df_NCBI_genomes_AMR_BLASTn.astype(bool)\n",
        "# Convert boolean values back to numeric\n",
        "df_NCBI_genomes_AMR_BLASTn = df_boolean.astype(int)\n",
        "\n",
        "\n",
        "# Assign the empty column as the first column in the DataFrame\n",
        "df_NCBI_genomes_AMR_BLASTn.insert(0, 'db', new_column)\n",
        "df_NCBI_genomes_AMR_BLASTn=df_NCBI_genomes_AMR_BLASTn.reset_index(drop=True)\n",
        "\n",
        "# Print the updated DataFrames with only the common columns\n",
        "#print(df1)\n",
        "print(df_NCBI_genomes_AMR_BLASTn)"
      ],
      "metadata": {
        "colab": {
          "base_uri": "https://localhost:8080/"
        },
        "id": "l5eXdZ5umQE_",
        "outputId": "88f9bdac-9f37-4131-e27b-fc74fe934ab7"
      },
      "execution_count": 6,
      "outputs": [
        {
          "output_type": "stream",
          "name": "stdout",
          "text": [
            "                  db  pare  espx5  uhpt  hlyc  amph  ampc1  glpt  yagwecpd  \\\n",
            "0    GCF_002214205.1     0      0     0     0     0      1     0         0   \n",
            "1    GCF_002833425.1     0      0     0     0     0      0     0         0   \n",
            "2    GCF_002833445.1     0      0     0     0     0      0     0         0   \n",
            "3    GCF_002833465.1     0      0     0     0     0      0     0         0   \n",
            "4    GCF_002855915.1     0      0     0     0     0      0     0         0   \n",
            "..               ...   ...    ...   ...   ...   ...    ...   ...       ...   \n",
            "293  GCF_029069675.1     1      0     1     0     1      0     1         0   \n",
            "294  GCF_029069745.1     1      0     1     0     1      0     1         0   \n",
            "295  GCF_029069825.1     1      0     1     0     1      0     1         0   \n",
            "296  GCF_029070195.1     1      0     1     0     1      0     1         0   \n",
            "297  GCF_029075245.1     1      0     1     0     1      0     1         0   \n",
            "\n",
            "     yagzecpa  ...  oqxb32  ptxd  argr  entf  ybtt  catb  clbs  espy3  shux  \\\n",
            "0           0  ...       0     0     0     1     0     0     0      0     1   \n",
            "1           0  ...       0     0     0     0     0     0     0      0     0   \n",
            "2           0  ...       0     0     0     0     0     0     0      0     0   \n",
            "3           0  ...       0     0     0     0     0     0     0      0     0   \n",
            "4           0  ...       0     0     0     0     0     0     0      0     0   \n",
            "..        ...  ...     ...   ...   ...   ...   ...   ...   ...    ...   ...   \n",
            "293         0  ...       1     0     1     0     0     0     0      0     0   \n",
            "294         0  ...       1     0     1     0     0     0     0      0     0   \n",
            "295         0  ...       1     0     1     0     0     0     0      0     0   \n",
            "296         0  ...       1     0     1     0     0     0     0      0     0   \n",
            "297         0  ...       1     0     1     0     0     0     0      0     0   \n",
            "\n",
            "     pmrl  \n",
            "0       1  \n",
            "1       0  \n",
            "2       0  \n",
            "3       0  \n",
            "4       0  \n",
            "..    ...  \n",
            "293     0  \n",
            "294     0  \n",
            "295     0  \n",
            "296     0  \n",
            "297     0  \n",
            "\n",
            "[298 rows x 326 columns]\n"
          ]
        }
      ]
    },
    {
      "cell_type": "markdown",
      "source": [
        "In this data set rows with same ID may came from different pangenome Set (clous, shell, persistance) for this analysis we will combine rows by OR operator ignoring its pangenome origin\n"
      ],
      "metadata": {
        "id": "yn-wlJTdllDi"
      }
    },
    {
      "cell_type": "code",
      "source": [
        "print(df_NCBI_genomes_AMR_BLASTn)\n",
        "# Group the DataFrame by 'ID' and apply the OR operator to each column\n",
        "df_NCBI_genomes_blast_combined = df_NCBI_genomes_AMR_BLASTn.groupby('db').agg(lambda x: 1 if any(x.astype(bool)) else 0)\n",
        "\n",
        "# Reset the index to convert the 'ID' column back to a regular column\n",
        "df_NCBI_genomes_blast_combined.reset_index(inplace=True)\n",
        "#print(df_NCBI_genomes_combined)"
      ],
      "metadata": {
        "colab": {
          "base_uri": "https://localhost:8080/"
        },
        "id": "xGHTXfwoljdS",
        "outputId": "435d8ed4-cf66-43f2-8510-e75e95c3c7d9"
      },
      "execution_count": 7,
      "outputs": [
        {
          "output_type": "stream",
          "name": "stdout",
          "text": [
            "                  db  pare  espx5  uhpt  hlyc  amph  ampc1  glpt  yagwecpd  \\\n",
            "0    GCF_002214205.1     0      0     0     0     0      1     0         0   \n",
            "1    GCF_002833425.1     0      0     0     0     0      0     0         0   \n",
            "2    GCF_002833445.1     0      0     0     0     0      0     0         0   \n",
            "3    GCF_002833465.1     0      0     0     0     0      0     0         0   \n",
            "4    GCF_002855915.1     0      0     0     0     0      0     0         0   \n",
            "..               ...   ...    ...   ...   ...   ...    ...   ...       ...   \n",
            "293  GCF_029069675.1     1      0     1     0     1      0     1         0   \n",
            "294  GCF_029069745.1     1      0     1     0     1      0     1         0   \n",
            "295  GCF_029069825.1     1      0     1     0     1      0     1         0   \n",
            "296  GCF_029070195.1     1      0     1     0     1      0     1         0   \n",
            "297  GCF_029075245.1     1      0     1     0     1      0     1         0   \n",
            "\n",
            "     yagzecpa  ...  oqxb32  ptxd  argr  entf  ybtt  catb  clbs  espy3  shux  \\\n",
            "0           0  ...       0     0     0     1     0     0     0      0     1   \n",
            "1           0  ...       0     0     0     0     0     0     0      0     0   \n",
            "2           0  ...       0     0     0     0     0     0     0      0     0   \n",
            "3           0  ...       0     0     0     0     0     0     0      0     0   \n",
            "4           0  ...       0     0     0     0     0     0     0      0     0   \n",
            "..        ...  ...     ...   ...   ...   ...   ...   ...   ...    ...   ...   \n",
            "293         0  ...       1     0     1     0     0     0     0      0     0   \n",
            "294         0  ...       1     0     1     0     0     0     0      0     0   \n",
            "295         0  ...       1     0     1     0     0     0     0      0     0   \n",
            "296         0  ...       1     0     1     0     0     0     0      0     0   \n",
            "297         0  ...       1     0     1     0     0     0     0      0     0   \n",
            "\n",
            "     pmrl  \n",
            "0       1  \n",
            "1       0  \n",
            "2       0  \n",
            "3       0  \n",
            "4       0  \n",
            "..    ...  \n",
            "293     0  \n",
            "294     0  \n",
            "295     0  \n",
            "296     0  \n",
            "297     0  \n",
            "\n",
            "[298 rows x 326 columns]\n"
          ]
        }
      ]
    },
    {
      "cell_type": "markdown",
      "source": [
        "Now lets horizontally combined the two datasets, so that for each city we will have 157+325 =482 AMR IDS"
      ],
      "metadata": {
        "id": "x8uTrSe_K1fn"
      }
    },
    {
      "cell_type": "code",
      "source": [
        "#print(df_ET_BC_AMR_BLASTn['db'])\n",
        "#print(df_ET_BC_AMR_CARD['db'])\n",
        "merged_NCBIGenomes_df = pd.merge(df_NCBI_genomes_blast_combined, df_NCBI_genomes_AMR_CARD, on='db')\n",
        "merged_NCBIGenomes_df.rename(columns={'db': 'ID'}, inplace=True)\n",
        "#print(merged_NCBIGenomes_df)\n",
        "\n",
        "url='https://raw.githubusercontent.com/ccm-bioinfo/cambda2023/main/06_amr_resistance/data/genome-metadata.csv'\n",
        "\n",
        "# Read the TSV file into a DataFrame\n",
        "df_NCBI_genomes_metadata = pd.read_csv(url)\n",
        "df_NCBI_genomes_metadata.rename(columns={'accession': 'ID'}, inplace=True)\n",
        "\n",
        "merged_df = pd.merge(df_NCBI_genomes_metadata, merged_NCBIGenomes_df, on=\"ID\")\n",
        "merged_df.rename(columns={'city': 'City'}, inplace=True)\n",
        "merged_df.rename(columns={'species': 'Species'}, inplace=True)\n",
        "merged_df['City']=merged_df['City'].replace(\"New York\", \"NYC\").replace(\"Minneapolis\", \"MIN\").replace(\"Baltimore\", \"BAL\").replace(\"San Antonio\", \"SAN\")\n",
        "merged_df['ID']=merged_df['City']+\"_\"+merged_df['Collection_date'].astype(str)+\"_\"+merged_df['ID']\n",
        "\n",
        "\n",
        "\n",
        "print(merged_df)\n",
        " #ID                  Species        City\n",
        " #ID ="
      ],
      "metadata": {
        "colab": {
          "base_uri": "https://localhost:8080/"
        },
        "id": "D75UJhX8K6bl",
        "outputId": "993d4f30-a849-43fb-ffeb-a3a39cc33bdf"
      },
      "execution_count": 15,
      "outputs": [
        {
          "output_type": "stream",
          "name": "stdout",
          "text": [
            "                           ID  Collection_date City                Species  \\\n",
            "0    NYC_2016_GCF_002214205.1             2016  NYC       Escherichia coli   \n",
            "1    MIN_2017_GCF_013423565.1             2017  MIN       Escherichia coli   \n",
            "2    MIN_2017_GCF_013423645.1             2017  MIN       Escherichia coli   \n",
            "3    NYC_2018_GCF_022569415.1             2018  NYC       Escherichia coli   \n",
            "4    NYC_2018_GCF_022812305.1             2018  NYC       Escherichia coli   \n",
            "..                        ...              ...  ...                    ...   \n",
            "100  NYC_2015_GCF_027584695.1             2015  NYC  Klebsiella pneumoniae   \n",
            "101  NYC_2015_GCF_027585065.1             2015  NYC  Klebsiella pneumoniae   \n",
            "102  NYC_2015_GCF_027585115.1             2015  NYC  Klebsiella pneumoniae   \n",
            "103  NYC_2015_GCF_027585155.1             2015  NYC  Klebsiella pneumoniae   \n",
            "104  NYC_2015_GCF_027585165.1             2015  NYC  Klebsiella pneumoniae   \n",
            "\n",
            "    included  pare  espx5  uhpt  hlyc  amph  ...  ARO:3002683  ARO:3005053  \\\n",
            "0        yes     1      0     1     0     1  ...            1            1   \n",
            "1        yes     1      1     1     0     1  ...            0            1   \n",
            "2        yes     1      1     1     0     1  ...            0            1   \n",
            "3        yes     1      1     1     0     1  ...            1            1   \n",
            "4        yes     1      1     1     0     1  ...            1            1   \n",
            "..       ...   ...    ...   ...   ...   ...  ...          ...          ...   \n",
            "100      yes     1      0     1     0     1  ...            1            1   \n",
            "101      yes     1      0     1     0     1  ...            1            1   \n",
            "102      yes     1      0     1     0     1  ...            1            1   \n",
            "103      yes     1      0     1     0     1  ...            1            1   \n",
            "104      yes     1      0     1     0     1  ...            1            1   \n",
            "\n",
            "     ARO:3000499  ARO:3000254  ARO:3000502  ARO:3002705  ARO:3002831  \\\n",
            "0              1            1            1            1            1   \n",
            "1              1            1            1            1            1   \n",
            "2              1            1            1            1            1   \n",
            "3              1            1            1            1            1   \n",
            "4              1            1            1            1            1   \n",
            "..           ...          ...          ...          ...          ...   \n",
            "100            1            1            1            1            1   \n",
            "101            1            1            1            1            1   \n",
            "102            1            1            1            1            1   \n",
            "103            1            1            1            1            1   \n",
            "104            1            1            1            1            1   \n",
            "\n",
            "     ARO:3002137  ARO:3000833  ARO:3002357  \n",
            "0              0            1            0  \n",
            "1              0            1            0  \n",
            "2              0            1            0  \n",
            "3              0            1            0  \n",
            "4              0            1            0  \n",
            "..           ...          ...          ...  \n",
            "100            0            1            0  \n",
            "101            0            1            0  \n",
            "102            0            1            0  \n",
            "103            0            1            0  \n",
            "104            0            1            0  \n",
            "\n",
            "[105 rows x 486 columns]\n"
          ]
        }
      ]
    },
    {
      "cell_type": "markdown",
      "source": [
        "Now lets combine the 107 rows from genomes and ~480 AMR Ids with\n",
        "~146 rows with ~505 AMR markers from mysterious city"
      ],
      "metadata": {
        "id": "C53bztYtMguK"
      }
    },
    {
      "cell_type": "markdown",
      "source": [
        "Metadata from collected genomes"
      ],
      "metadata": {
        "id": "zhNm2qRHEiO7"
      }
    },
    {
      "cell_type": "code",
      "source": [
        "# merged_df NCBI samples with metadata\n",
        "metadata_df = pd.concat([mysterious_df, merged_df], axis=0, ignore_index=True).fillna(0)\n",
        "print(metadata_df)\n"
      ],
      "metadata": {
        "colab": {
          "base_uri": "https://localhost:8080/"
        },
        "id": "RlELQrO8TN-C",
        "outputId": "efeecf42-cda1-4664-86fb-b461b81bbed8"
      },
      "execution_count": 21,
      "outputs": [
        {
          "output_type": "stream",
          "name": "stdout",
          "text": [
            "                           ID                  Species        City  \\\n",
            "0                          S1  Enterobacter hormaechei  mysterious   \n",
            "1                          S2  Enterobacter hormaechei  mysterious   \n",
            "2                          S3  Enterobacter hormaechei  mysterious   \n",
            "3                          S4  Enterobacter hormaechei  mysterious   \n",
            "4                          S5  Enterobacter hormaechei  mysterious   \n",
            "..                        ...                      ...         ...   \n",
            "246  NYC_2015_GCF_027584695.1    Klebsiella pneumoniae         NYC   \n",
            "247  NYC_2015_GCF_027585065.1    Klebsiella pneumoniae         NYC   \n",
            "248  NYC_2015_GCF_027585115.1    Klebsiella pneumoniae         NYC   \n",
            "249  NYC_2015_GCF_027585155.1    Klebsiella pneumoniae         NYC   \n",
            "250  NYC_2015_GCF_027585165.1    Klebsiella pneumoniae         NYC   \n",
            "\n",
            "    AST-based group  ARO:3000167  ARO:3002847  mrkb  enta  fepa  ARO:3004122  \\\n",
            "0     3GC-resistant            0            0     0     0     0            0   \n",
            "1            CP CRE            0            0     0     0     0            0   \n",
            "2            CP CRE            0            0     0     0     0            0   \n",
            "3            CP CRE            0            0     0     1     0            0   \n",
            "4            CP CRE            0            0     0     0     0            0   \n",
            "..              ...          ...          ...   ...   ...   ...          ...   \n",
            "246               0            1            0     1     1     1            1   \n",
            "247               0            1            0     0     1     1            1   \n",
            "248               0            1            0     1     1     1            1   \n",
            "249               0            1            0     1     1     1            1   \n",
            "250               0            1            0     1     1     1            1   \n",
            "\n",
            "     ...  wcst  sfax  kpsd  mdlb  ARO:3001084  tssj  icmftssm  acrr  \\\n",
            "0    ...     0     0     0     0          0.0     0         0     0   \n",
            "1    ...     0     0     0     0          0.0     0         0     0   \n",
            "2    ...     0     0     0     0          0.0     0         0     0   \n",
            "3    ...     0     0     0     0          0.0     0         0     0   \n",
            "4    ...     0     0     0     0          0.0     0         0     0   \n",
            "..   ...   ...   ...   ...   ...          ...   ...       ...   ...   \n",
            "246  ...     0     0     0     1          0.0     0         0     1   \n",
            "247  ...     0     0     0     1          0.0     0         0     1   \n",
            "248  ...     0     0     0     1          0.0     0         0     1   \n",
            "249  ...     0     0     0     1          0.0     0         0     1   \n",
            "250  ...     0     0     0     1          0.0     0         0     1   \n",
            "\n",
            "     Collection_date  included  \n",
            "0                0.0         0  \n",
            "1                0.0         0  \n",
            "2                0.0         0  \n",
            "3                0.0         0  \n",
            "4                0.0         0  \n",
            "..               ...       ...  \n",
            "246           2015.0       yes  \n",
            "247           2015.0       yes  \n",
            "248           2015.0       yes  \n",
            "249           2015.0       yes  \n",
            "250           2015.0       yes  \n",
            "\n",
            "[251 rows x 511 columns]\n"
          ]
        }
      ]
    },
    {
      "cell_type": "code",
      "source": [
        "\n",
        "# Assuming you have a DataFrame named df\n",
        "\n",
        "# Export the DataFrame as a CSV file\n",
        "csv_file_path = '230626_AMR_mysterious_NCBI_all_nelly.csv'\n",
        "merged_df.to_csv(csv_file_path, index=False)\n",
        "\n",
        "# Print the file paths\n",
        "print(\"CSV file saved:\", csv_file_path)"
      ],
      "metadata": {
        "colab": {
          "base_uri": "https://localhost:8080/"
        },
        "id": "gN8QQP1wcUVw",
        "outputId": "b5b1c775-a037-401e-fff0-7814d0fa4cde"
      },
      "execution_count": 22,
      "outputs": [
        {
          "output_type": "stream",
          "name": "stdout",
          "text": [
            "CSV file saved: 230626_AMR_mysterious_NCBI_all_nelly.csv\n"
          ]
        }
      ]
    }
  ]
}