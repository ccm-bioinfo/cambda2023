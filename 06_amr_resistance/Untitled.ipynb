{
 "cells": [
  {
   "cell_type": "code",
   "execution_count": null,
   "id": "f8bc39ef",
   "metadata": {},
   "outputs": [],
   "source": [
    "import os\n",
    "from biom import load_table\n",
    "\n",
    "# Establecer el directorio de trabajo\n",
    "os.chdir(\"/home/shaday/GIT/ccm-bioinfomatica-lab/Hackaton_junio2023/Resistencia\")\n",
    "\n",
    "# Cargar el archivo Biom\n",
    "table = load_table(\"data/camda23.biom\")\n",
    "table\n",
    "\n"
   ]
  },
  {
   "cell_type": "code",
   "execution_count": null,
   "id": "007d3925",
   "metadata": {},
   "outputs": [],
   "source": [
    "table.columns()"
   ]
  },
  {
   "cell_type": "code",
   "execution_count": null,
   "id": "cc3c9567",
   "metadata": {},
   "outputs": [],
   "source": [
    "\n",
    "# Visualizar la tabla de taxonomía\n",
    "tax_table = table.metadata('observation')\n",
    "tax_data = [data.decode()[1:] for data in tax_table['taxonomy']]\n",
    "tax_table['taxonomy'] = tax_data\n",
    "tax_table.columns = [\"Kingdom\", \"Phylum\", \"Class\", \"Order\", \"Family\", \"Genus\", \"Species\"]\n",
    "\n"
   ]
  },
  {
   "cell_type": "code",
   "execution_count": null,
   "id": "8e969643",
   "metadata": {},
   "outputs": [],
   "source": [
    "# Calcular los porcentajes absolutos y relativos por orden taxonómico\n",
    "absolute_order = table.taxonomy_golay(rank='Order')\n",
    "percentages_order = absolute_order.transform(lambda x: x / x.sum())\n",
    "percentages = table.transform(lambda x: x * 100 / x.sum())"
   ]
  },
  {
   "cell_type": "code",
   "execution_count": null,
   "id": "58c1325a",
   "metadata": {},
   "outputs": [],
   "source": [
    "# Obtener la tabla de OTUs\n",
    "otu_table = table.matrix_data.to_dataframe().T\n",
    "\n",
    "# Calcular los porcentajes absolutos y relativos por orden taxonómico\n",
    "absolute_order = table.taxonomy_golay(rank='Order')\n",
    "percentages_order = absolute_order.transform(lambda x: x / x.sum())\n",
    "percentages = table.transform(lambda x: x * 100 / x.sum())\n",
    "\n",
    "# Obtener la tabla de OTUs por orden taxonómico\n",
    "otu_order = percentages_order.matrix_data.to_dataframe().T"
   ]
  },
  {
   "cell_type": "code",
   "execution_count": 2,
   "id": "a8047c60",
   "metadata": {},
   "outputs": [],
   "source": [
    "import os\n",
    "import pandas as pd\n",
    "from biom import load_table\n",
    "\n",
    "# Establecer el directorio de trabajo\n",
    "os.chdir(\"/home/shaday/GIT/ccm-bioinfomatica-lab/Hackaton_junio2023/Resistencia\")\n",
    "\n",
    "# Importar el archivo biom\n",
    "table = load_table(\"data/camda23.biom\")\n",
    "\n",
    "\n"
   ]
  },
  {
   "cell_type": "code",
   "execution_count": 3,
   "id": "1407ade3",
   "metadata": {},
   "outputs": [],
   "source": [
    "# Eliminar el primer carácter de la columna taxonómica\n",
    "table.ids(axis='observation')[:] = [taxon[1:] for taxon in table.ids(axis='observation')]\n",
    "# Renombrar las columnas de la tabla taxonómica\n",
    "\n",
    "tax_columns = [\"Kingdom\", \"Phylum\", \"Class\", \"Order\", \"Family\", \"Genus\", \"Species\"]\n",
    "table.metadata(axis='observation')['taxonomy'] = pd.DataFrame(table.metadata(axis='observation')['taxonomy'].values.tolist(), columns=tax_columns)\n",
    "\n",
    "# Realizar agrupación taxonómica por 'Order'\n",
    "absolute_order = table.filter(lambda val, id_, md: md['taxonomy']['Order'], axis='observation')\n",
    "\n",
    "# Calcular los porcentajes relativos a nivel de 'Order'\n",
    "percentages_order = absolute_order.norm(axis='observation', inplace=False)\n",
    "\n",
    "# Obtener las tablas OTU absolutas y relativas a nivel de 'Order'\n",
    "otu_order_absolute = absolute_order.matrix_data.todense().T\n",
    "otu_order_relative = percentages_order.matrix_data.todense().T\n"
   ]
  }
 ],
 "metadata": {
  "kernelspec": {
   "display_name": "Python 3 (ipykernel)",
   "language": "python",
   "name": "python3"
  },
  "language_info": {
   "codemirror_mode": {
    "name": "ipython",
    "version": 3
   },
   "file_extension": ".py",
   "mimetype": "text/x-python",
   "name": "python",
   "nbconvert_exporter": "python",
   "pygments_lexer": "ipython3",
   "version": "3.7.12"
  }
 },
 "nbformat": 4,
 "nbformat_minor": 5
}
